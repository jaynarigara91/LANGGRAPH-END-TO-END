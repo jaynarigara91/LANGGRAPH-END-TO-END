{
 "cells": [
  {
   "cell_type": "code",
   "execution_count": 134,
   "metadata": {},
   "outputs": [
    {
     "data": {
      "text/plain": [
       "True"
      ]
     },
     "execution_count": 134,
     "metadata": {},
     "output_type": "execute_result"
    }
   ],
   "source": [
    "from langgraph.graph import StateGraph,MessagesState,START,END\n",
    "from langchain_core.messages import SystemMessage,HumanMessage,AIMessage\n",
    "from langgraph.prebuilt import tools_condition,ToolNode\n",
    "from langchain_groq import ChatGroq\n",
    "from langchain_community.tools.tavily_search import TavilySearchResults\n",
    "from typing import Annotated,Literal\n",
    "from dotenv import load_dotenv\n",
    "import os\n",
    "\n",
    "load_dotenv()"
   ]
  },
  {
   "cell_type": "code",
   "execution_count": 135,
   "metadata": {},
   "outputs": [],
   "source": [
    "llm = ChatGroq(model_name=\"llama-3.2-11b-vision-preview\")"
   ]
  },
  {
   "cell_type": "code",
   "execution_count": 136,
   "metadata": {},
   "outputs": [],
   "source": [
    "def Mul(a: int, b: int) -> int:\n",
    "    \"\"\"multiply a and b\n",
    "    args:\n",
    "        a: first int\n",
    "        b: secound int\n",
    "    \"\"\"\n",
    "    return a * b"
   ]
  },
  {
   "cell_type": "code",
   "execution_count": 137,
   "metadata": {},
   "outputs": [],
   "source": [
    "def add(a: int, b: int) -> int:\n",
    "    \"\"\"addition a and b\n",
    "    args:\n",
    "        a: first int\n",
    "        b: secound int\n",
    "    \"\"\"\n",
    "    return a + b"
   ]
  },
  {
   "cell_type": "code",
   "execution_count": 138,
   "metadata": {},
   "outputs": [],
   "source": [
    "def div(a: int, b: int) -> float:\n",
    "    \"\"\"divition a and b\n",
    "    args:\n",
    "        a: first int\n",
    "        b: secound int\n",
    "    \"\"\"\n",
    "    return a / b"
   ]
  },
  {
   "cell_type": "code",
   "execution_count": 139,
   "metadata": {},
   "outputs": [],
   "source": [
    "tavily = TavilySearchResults(max_results=3)"
   ]
  },
  {
   "cell_type": "code",
   "execution_count": 140,
   "metadata": {},
   "outputs": [],
   "source": [
    "tool = [Mul,add,div,tavily]"
   ]
  },
  {
   "cell_type": "code",
   "execution_count": 141,
   "metadata": {},
   "outputs": [],
   "source": [
    "model_with_tool = llm.bind_tools(tool)"
   ]
  },
  {
   "cell_type": "code",
   "execution_count": 142,
   "metadata": {},
   "outputs": [],
   "source": [
    "sys_msg = SystemMessage(content=\"You are a helpful assistant tasked with using search and performing arithmetic on a set of inputs.\")"
   ]
  },
  {
   "cell_type": "code",
   "execution_count": 143,
   "metadata": {},
   "outputs": [],
   "source": [
    "def call_model(state: MessagesState):\n",
    "    messages = state['messages']\n",
    "    response = model_with_tool.invoke([sys_msg] + messages)\n",
    "    return {'messages':[response]}"
   ]
  },
  {
   "cell_type": "code",
   "execution_count": 144,
   "metadata": {},
   "outputs": [],
   "source": [
    "workflow = StateGraph(MessagesState)\n",
    "workflow.add_node(\"Reasoner\",call_model)\n",
    "workflow.add_node(\"tools\",ToolNode(tool))\n",
    "workflow.add_edge(START,\"Reasoner\")\n",
    "workflow.add_conditional_edges(\n",
    "    \"Reasoner\",\n",
    "    tools_condition\n",
    ")\n",
    "workflow.add_edge(\"tools\",\"Reasoner\")\n",
    "app = workflow.compile()"
   ]
  },
  {
   "cell_type": "code",
   "execution_count": 145,
   "metadata": {},
   "outputs": [
    {
     "data": {
      "image/png": "[encoded data removed]",
      "text/plain": [
       "<langgraph.graph.state.CompiledStateGraph object at 0x0000024E9B4020B0>"
      ]
     },
     "execution_count": 145,
     "metadata": {},
     "output_type": "execute_result"
    }
   ],
   "source": [
    "app"
   ]
  },
  {
   "cell_type": "code",
   "execution_count": 148,
   "metadata": {},
   "outputs": [],
   "source": [
    "response = app.invoke({'messages':[\"what is 2 times of namerendra modi age\"]})"
   ]
  },
  {
   "cell_type": "code",
   "execution_count": 150,
   "metadata": {},
   "outputs": [
    {
     "name": "stdout",
     "output_type": "stream",
     "text": [
      "================================\u001b[1m Human Message \u001b[0m=================================\n",
      "\n",
      "what is 2 times of namerendra modi age\n",
      "==================================\u001b[1m Ai Message \u001b[0m==================================\n",
      "Tool Calls:\n",
      "  Mul (call_d74y)\n",
      " Call ID: call_d74y\n",
      "  Args:\n",
      "    a: 2\n",
      "    b: 71\n",
      "  tavily_search_results_json (call_dnk5)\n",
      " Call ID: call_dnk5\n",
      "  Args:\n",
      "    query: Narendra Modi age in 2024\n",
      "=================================\u001b[1m Tool Message \u001b[0m=================================\n",
      "Name: Mul\n",
      "\n",
      "142\n",
      "=================================\u001b[1m Tool Message \u001b[0m=================================\n",
      "Name: tavily_search_results_json\n",
      "\n",
      "[{\"url\": \"https://www.facebook.com/cnnnews18/videos/modi-at-74-age-is-just-a-number-for-indias-prime-minister/825488299789928/\", \"content\": \"Modi At 74: Age is Just A Number For India's Prime Minister CNN-News18's Aman Sharma Explains #PMModi #ModiSarkar3.\"}, {\"url\": \"https://www.youtube.com/watch?v=SiM6Ze84wFo\", \"content\": \"PM Narendra Modi turns 74 today | BJP's J.P. Nadda will inaugurate the 'Seva Pakhwada' blood donation drive The event will also feature an\"}, {\"url\": \"https://www.britannica.com/biography/Narendra-Modi\", \"content\": \"Narendra Modi | Biography, Career, & Facts | Britannica Ask the Chatbot Games & Quizzes History & Society Science & Tech Biographies Animals & Nature Geography & Travel Arts & Culture ProCon Money Videos Narendra Modi Chief minister of Gujarat state Narendra Modi speaking at the World Economic Forum's India Economic Summit, November 2008. Modi became the prime minister of India in 2014. Prime Minister of India - Narendra Modi India PM Modi's party seeks to regain control of New Delhi region in state elections • Feb. 5, 2025, 10:24 AM ET (AP) Narendra Modi (born September 17, 1950, Vadnagar, India) is an Indian politician and government official who rose to become a senior leader of the Bharatiya Janata Party (BJP).\"}]\n",
      "==================================\u001b[1m Ai Message \u001b[0m==================================\n",
      "\n",
      "Based on the information given, it seems that Narendra Modi was born on September 17, 1950, which would make him 73 years old in 2024. Therefore, 2 times his age would be 146.\n"
     ]
    }
   ],
   "source": [
    "for m in response['messages']:\n",
    "    m.pretty_print()"
   ]
  },
  {
   "cell_type": "code",
   "execution_count": 151,
   "metadata": {},
   "outputs": [],
   "source": [
    "response = app.invoke({'messages':[\"What is the result when you add 100 years to the current age of Elon Musk?\"]})"
   ]
  },
  {
   "cell_type": "code",
   "execution_count": 152,
   "metadata": {},
   "outputs": [
    {
     "name": "stdout",
     "output_type": "stream",
     "text": [
      "================================\u001b[1m Human Message \u001b[0m=================================\n",
      "\n",
      "What is the result when you add 100 years to the current age of Elon Musk?\n",
      "==================================\u001b[1m Ai Message \u001b[0m==================================\n",
      "Tool Calls:\n",
      "  tavily_search_results_json (call_ssnq)\n",
      " Call ID: call_ssnq\n",
      "  Args:\n",
      "    query: Elon Musk current age\n",
      "=================================\u001b[1m Tool Message \u001b[0m=================================\n",
      "Name: tavily_search_results_json\n",
      "\n",
      "[{\"url\": \"https://www.myagecalculator.com/how-old-is-elon-musk\", \"content\": \"How old is Elon Musk? How old is Elon Musk? Elon Musk was born on 28 June 1971. Elon Musk is 53 years old. How old is Elon Musk in days now? Elon Musk is 53 years 6 months 5 days old. When is the next birthday of Elon Musk? Elon Musk's next birthday is in 5 months 26 days. What is the zodiac sign of Elon Musk? Zodiac sign of Elon Musk is Cancer. Born in South Africa, Elon Musk is an American businessman and innovator who became popular as the creator and manager of PayPal online payment system, as well as the founder of a few large research and business organizations working on the fields of space exploration and alternative energy.\"}, {\"url\": \"https://en.wikipedia.org/wiki/Elon_Musk\", \"content\": \"Elon Musk ; President, Donald Trump ; Born. Elon Reeve Musk. (1971-06-28) June 28, 1971 (age 53) Pretoria, Transvaal, South Africa ; Citizenship. South Africa\"}, {\"url\": \"https://www.goodreturns.in/elon-musk-net-worth-and-biography-blnr1.html\", \"content\": \"How old is Elon Musk? Elon Musk is 53 years old. How many children does Elon Musk have?\"}]\n",
      "==================================\u001b[1m Ai Message \u001b[0m==================================\n",
      "Tool Calls:\n",
      "  add (call_tyff)\n",
      " Call ID: call_tyff\n",
      "  Args:\n",
      "    a: 53\n",
      "    b: 100\n",
      "=================================\u001b[1m Tool Message \u001b[0m=================================\n",
      "Name: add\n",
      "\n",
      "153\n",
      "==================================\u001b[1m Ai Message \u001b[0m==================================\n",
      "\n",
      "Elon Musk will be 153 years old in 100 years.\n"
     ]
    }
   ],
   "source": [
    "for m in response['messages']:\n",
    "    m.pretty_print()"
   ]
  },
  {
   "cell_type": "code",
   "execution_count": null,
   "metadata": {},
   "outputs": [],
   "source": []
  }
 ],
 "metadata": {
  "kernelspec": {
   "display_name": "jay",
   "language": "python",
   "name": "python3"
  },
  "language_info": {
   "codemirror_mode": {
    "name": "ipython",
    "version": 3
   },
   "file_extension": ".py",
   "mimetype": "text/x-python",
   "name": "python",
   "nbconvert_exporter": "python",
   "pygments_lexer": "ipython3",
   "version": "3.10.15"
  }
 },
 "nbformat": 4,
 "nbformat_minor": 2
}
