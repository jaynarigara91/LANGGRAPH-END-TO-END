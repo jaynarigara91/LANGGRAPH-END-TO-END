{
 "cells": [
  {
   "cell_type": "code",
   "execution_count": 2,
   "metadata": {},
   "outputs": [],
   "source": [
    "from langgraph.graph import StateGraph,MessagesState,START,END\n",
    "from langchain_community.tools.tavily_search import TavilySearchResults\n",
    "from langchain.output_parsers import StructuredOutputParser\n",
    "from langgraph.prebuilt import ToolNode,tools_condition\n",
    "from langchain_core.tools import tool\n",
    "from langchain_groq import ChatGroq"
   ]
  },
  {
   "cell_type": "code",
   "execution_count": 9,
   "metadata": {},
   "outputs": [],
   "source": [
    "@tool\n",
    "def search(prompt):\n",
    "    \"\"\"web searcher tool\"\"\"\n",
    "    tool_search = TavilySearchResults()\n",
    "    response = tool_search.invoke(prompt)\n",
    "    return response"
   ]
  },
  {
   "cell_type": "code",
   "execution_count": 21,
   "metadata": {},
   "outputs": [
    {
     "data": {
      "text/plain": [
       "[{'url': 'https://www.quora.com/Im-20-year-old-male-Can-I-increase-my-penis-size-lenght-and-girth-Its-4-inches-when-erected-now-What-are-the-best-possible-ways-to-increase-my-penis-length-to-6-inches',\n",
       "  'content': 'Surgery for permanent. For temporary you could get a penis pump but you wont get 2 inches maybe 1– 1.5ish. They also sell silicone penis length/girth extenders.'},\n",
       " {'url': 'https://healthwire.pk/healthcare/how-to-increase-the-penis-size/',\n",
       "  'content': '1- Start with Healthy Eating · 2- Strengthen your Pelvic Floor · 3- Get Back into Shape · 4- Stay Away from Smoke · 5- Penile Stretching or Jelqing.'},\n",
       " {'url': 'https://www.verywellhealth.com/penile-enlargement-3300133',\n",
       "  'content': 'Penile Enhancement: Is It Possible to Enlarge Penis Size? Penis Health Penis Health Penis enlargement products and procedures include supplements, vacuum pumps, traction devices, injectable fillers, surgeries, and implants. Although some people claim this helps improve erections, there is no evidence that it increases penis size. Others seek surgery if a smaller penis size or penile abnormality is interfering with the ability to urinate. Penile augmentation is often pursued by people who think that their penis is too small or have a medical condition that affects the penis size. This includes people with congenital disorders like micropenis or microphallus, who have experienced a loss of penis length due to surgery or Peyronie\\'s disease, or have a \"buried penis.\" Psychological reasons are often better addressed with counseling.'},\n",
       " {'url': 'https://www.truemeds.in/blog/exercises-to-increase-penis-size-facts-natural-ways-and-surgery',\n",
       "  'content': 'Natural Methods to Increase the Size of Penis · Healthy Diet · Frequent Exercise · Weight management · Sufficient Sleep · Stress management · Avoid smoking and heavy'},\n",
       " {'url': 'https://www.medicalnewstoday.com/articles/326426',\n",
       "  'content': 'Once puberty ends, there is unlikely to be any further penile growth. However, some individuals may experience penis growth into their early 20s.'}]"
      ]
     },
     "execution_count": 21,
     "metadata": {},
     "output_type": "execute_result"
    }
   ],
   "source": [
    "search('how to grow dick size at the age of 20')"
   ]
  },
  {
   "cell_type": "code",
   "execution_count": null,
   "metadata": {},
   "outputs": [],
   "source": []
  }
 ],
 "metadata": {
  "kernelspec": {
   "display_name": "jay",
   "language": "python",
   "name": "python3"
  },
  "language_info": {
   "codemirror_mode": {
    "name": "ipython",
    "version": 3
   },
   "file_extension": ".py",
   "mimetype": "text/x-python",
   "name": "python",
   "nbconvert_exporter": "python",
   "pygments_lexer": "ipython3",
   "version": "3.10.15"
  }
 },
 "nbformat": 4,
 "nbformat_minor": 2
}
