{
 "cells": [
  {
   "cell_type": "code",
   "execution_count": 3,
   "metadata": {},
   "outputs": [],
   "source": [
    "from langgraph.graph import Graph\n",
    "from langchain_groq import ChatGroq"
   ]
  },
  {
   "cell_type": "code",
   "execution_count": 4,
   "metadata": {},
   "outputs": [],
   "source": [
    "llm = ChatGroq(model_name=\"deepseek-r1-distill-llama-70b\")"
   ]
  },
  {
   "cell_type": "code",
   "execution_count": 5,
   "metadata": {},
   "outputs": [
    {
     "data": {
      "text/plain": [
       "'<think>\\n\\n</think>\\n\\nMachine learning is a subset of artificial intelligence (AI) that involves the use of algorithms and statistical models to enable machines to perform a specific task without using explicit instructions, instead relying on patterns and inference from data. In other words, machine learning allows computers to learn from and make decisions based on data, improving their performance on a task over time.\\n\\n### Key Concepts:\\n1. **Data**: Machine learning relies on data to train models. This data can be structured (e.g., tables) or unstructured (e.g., images, text).\\n2. **Algorithms**: These are the methods used to train models. Common algorithms include decision trees, neural networks, and support vector machines.\\n3. **Model**: The result of training an algorithm on data. The model can make predictions or decisions based on new, unseen data.\\n4. **Training**: The process of feeding data to an algorithm to learn patterns or relationships.\\n5. **Inference**: Using the trained model to make predictions or take actions on new data.\\n\\n### Types of Machine Learning:\\n1. **Supervised Learning**: The model is trained on labeled data, where each example is paired with an output label. The goal is to learn a mapping from inputs to outputs (e.g., image classification).\\n2. **Unsupervised Learning**: The model is trained on unlabeled data and aims to find hidden patterns or groupings in the data (e.g., clustering customers based on behavior).\\n3. **Semi-Supervised Learning**: Combines labeled and unlabeled data to improve learning efficiency.\\n4. **Reinforcement Learning**: The model learns by interacting with an environment and receiving rewards or penalties for actions (e.g., game playing, robotics).\\n\\n### Applications:\\n- **Predictive Analytics**: Forecasting future events based on historical data.\\n- **Natural Language Processing (NLP)**: Understanding and generating human language (e.g., chatbots, translation).\\n- **Computer Vision**: Interpreting visual data (e.g., facial recognition, object detection).\\n- **Recommendation Systems**: Suggesting items based on user preferences.\\n\\n### Workflow:\\n1. **Data Collection**: Gather relevant data.\\n2. **Data Preprocessing**: Clean, transform, and prepare the data.\\n3. **Model Selection**: Choose an appropriate algorithm.\\n4. **Training**: Use the data to train the model.\\n5. **Evaluation**: Test the model on unseen data.\\n6. **Deployment**: Implement the model in a real-world application.\\n\\nMachine learning is a powerful tool for automating tasks, gaining insights from data, and making informed decisions.'"
      ]
     },
     "execution_count": 5,
     "metadata": {},
     "output_type": "execute_result"
    }
   ],
   "source": [
    "llm.invoke(\"what is machine learning?\").content"
   ]
  },
  {
   "cell_type": "code",
   "execution_count": 6,
   "metadata": {},
   "outputs": [],
   "source": [
    "def function1(input):\n",
    "    llm = ChatGroq(model_name=\"llama-3.3-70b-versatile\")\n",
    "    response = llm.invoke(input)\n",
    "    return response.content"
   ]
  },
  {
   "cell_type": "code",
   "execution_count": 7,
   "metadata": {},
   "outputs": [],
   "source": [
    "def function2(input):\n",
    "    upper_string = input.upper()\n",
    "    return upper_string"
   ]
  },
  {
   "cell_type": "code",
   "execution_count": 8,
   "metadata": {},
   "outputs": [],
   "source": [
    "workflow = Graph()"
   ]
  },
  {
   "cell_type": "code",
   "execution_count": 9,
   "metadata": {},
   "outputs": [
    {
     "data": {
      "text/plain": [
       "<langgraph.graph.graph.Graph at 0x24c90efd2a0>"
      ]
     },
     "execution_count": 9,
     "metadata": {},
     "output_type": "execute_result"
    }
   ],
   "source": [
    "workflow.add_node(\"llm\",function1)\n",
    "workflow.add_node(\"upper_string\",function2)"
   ]
  },
  {
   "cell_type": "code",
   "execution_count": 10,
   "metadata": {},
   "outputs": [
    {
     "data": {
      "text/plain": [
       "<langgraph.graph.graph.Graph at 0x24c90efd2a0>"
      ]
     },
     "execution_count": 10,
     "metadata": {},
     "output_type": "execute_result"
    }
   ],
   "source": [
    "workflow.add_edge(\"llm\",\"upper_string\")"
   ]
  },
  {
   "cell_type": "code",
   "execution_count": 11,
   "metadata": {},
   "outputs": [
    {
     "data": {
      "text/plain": [
       "<langgraph.graph.graph.Graph at 0x24c90efd2a0>"
      ]
     },
     "execution_count": 11,
     "metadata": {},
     "output_type": "execute_result"
    }
   ],
   "source": [
    "workflow.set_entry_point(\"llm\")\n",
    "workflow.set_finish_point(\"upper_string\")"
   ]
  },
  {
   "cell_type": "code",
   "execution_count": 12,
   "metadata": {},
   "outputs": [],
   "source": [
    "app = workflow.compile()"
   ]
  },
  {
   "cell_type": "code",
   "execution_count": 13,
   "metadata": {},
   "outputs": [
    {
     "data": {
      "image/png": "[encoded data removed]",
      "text/plain": [
       "<langgraph.graph.graph.CompiledGraph object at 0x0000024C90EFCBB0>"
      ]
     },
     "execution_count": 13,
     "metadata": {},
     "output_type": "execute_result"
    }
   ],
   "source": [
    "app"
   ]
  },
  {
   "cell_type": "code",
   "execution_count": 14,
   "metadata": {},
   "outputs": [
    {
     "name": "stdout",
     "output_type": "stream",
     "text": [
      "MACHINE LEARNING (ML) IS A SUBSET OF ARTIFICIAL INTELLIGENCE (AI) THAT INVOLVES THE USE OF ALGORITHMS AND STATISTICAL MODELS TO ENABLE MACHINES TO LEARN FROM DATA, MAKE PREDICTIONS, AND IMPROVE THEIR PERFORMANCE OVER TIME. THE GOAL OF MACHINE LEARNING IS TO DEVELOP SYSTEMS THAT CAN AUTOMATICALLY LEARN AND IMPROVE FROM EXPERIENCE, WITHOUT BEING EXPLICITLY PROGRAMMED.\n",
      "\n",
      "**KEY CHARACTERISTICS OF MACHINE LEARNING:**\n",
      "\n",
      "1. **LEARNING FROM DATA**: MACHINE LEARNING ALGORITHMS LEARN FROM DATA, WHICH CAN BE IN THE FORM OF IMAGES, TEXT, AUDIO, OR OTHER TYPES OF DATA.\n",
      "2. **PATTERN RECOGNITION**: MACHINE LEARNING ALGORITHMS IDENTIFY PATTERNS IN THE DATA, WHICH ALLOWS THEM TO MAKE PREDICTIONS OR DECISIONS.\n",
      "3. **IMPROVEMENT OVER TIME**: MACHINE LEARNING ALGORITHMS IMPROVE THEIR PERFORMANCE OVER TIME, AS THEY LEARN FROM MORE DATA AND ADAPT TO NEW SITUATIONS.\n",
      "4. **AUTONOMY**: MACHINE LEARNING ALGORITHMS CAN OPERATE AUTONOMOUSLY, WITHOUT HUMAN INTERVENTION, ONCE THEY HAVE BEEN TRAINED.\n",
      "\n",
      "**TYPES OF MACHINE LEARNING:**\n",
      "\n",
      "1. **SUPERVISED LEARNING**: THE ALGORITHM LEARNS FROM LABELED DATA, WHERE THE CORRECT OUTPUT IS ALREADY KNOWN.\n",
      "2. **UNSUPERVISED LEARNING**: THE ALGORITHM LEARNS FROM UNLABELED DATA, AND IDENTIFIES PATTERNS OR STRUCTURE IN THE DATA.\n",
      "3. **SEMI-SUPERVISED LEARNING**: THE ALGORITHM LEARNS FROM A COMBINATION OF LABELED AND UNLABELED DATA.\n",
      "4. **REINFORCEMENT LEARNING**: THE ALGORITHM LEARNS BY INTERACTING WITH AN ENVIRONMENT, AND RECEIVING REWARDS OR PENALTIES FOR ITS ACTIONS.\n",
      "\n",
      "**MACHINE LEARNING APPLICATIONS:**\n",
      "\n",
      "1. **IMAGE RECOGNITION**: SELF-DRIVING CARS, FACIAL RECOGNITION, OBJECT DETECTION.\n",
      "2. **NATURAL LANGUAGE PROCESSING**: CHATBOTS, LANGUAGE TRANSLATION, TEXT SUMMARIZATION.\n",
      "3. **PREDICTIVE MAINTENANCE**: PREDICTING EQUIPMENT FAILURES, SCHEDULING MAINTENANCE.\n",
      "4. **RECOMMENDATION SYSTEMS**: PERSONALIZED PRODUCT RECOMMENDATIONS, CONTENT RECOMMENDATION.\n",
      "5. **HEALTHCARE**: DISEASE DIAGNOSIS, PATIENT OUTCOME PREDICTION, MEDICAL IMAGE ANALYSIS.\n",
      "\n",
      "**MACHINE LEARNING TECHNIQUES:**\n",
      "\n",
      "1. **NEURAL NETWORKS**: A TYPE OF ALGORITHM INSPIRED BY THE STRUCTURE AND FUNCTION OF THE HUMAN BRAIN.\n",
      "2. **DECISION TREES**: A TYPE OF ALGORITHM THAT USES A TREE-LIKE MODEL TO MAKE DECISIONS.\n",
      "3. **CLUSTERING**: A TYPE OF ALGORITHM THAT GROUPS SIMILAR DATA POINTS TOGETHER.\n",
      "4. **LINEAR REGRESSION**: A TYPE OF ALGORITHM THAT MODELS THE RELATIONSHIP BETWEEN A DEPENDENT VARIABLE AND ONE OR MORE INDEPENDENT VARIABLES.\n",
      "\n",
      "**ADVANTAGES OF MACHINE LEARNING:**\n",
      "\n",
      "1. **IMPROVED ACCURACY**: MACHINE LEARNING ALGORITHMS CAN ACHIEVE HIGH ACCURACY, ESPECIALLY WHEN DEALING WITH COMPLEX DATA.\n",
      "2. **INCREASED EFFICIENCY**: MACHINE LEARNING ALGORITHMS CAN AUTOMATE TASKS, FREEING UP HUMAN RESOURCES FOR MORE STRATEGIC WORK.\n",
      "3. **SCALABILITY**: MACHINE LEARNING ALGORITHMS CAN HANDLE LARGE AMOUNTS OF DATA, AND SCALE TO MEET THE NEEDS OF COMPLEX SYSTEMS.\n",
      "\n",
      "**CHALLENGES AND LIMITATIONS OF MACHINE LEARNING:**\n",
      "\n",
      "1. **DATA QUALITY**: MACHINE LEARNING ALGORITHMS REQUIRE HIGH-QUALITY DATA TO LEARN EFFECTIVELY.\n",
      "2. **INTERPRETABILITY**: MACHINE LEARNING ALGORITHMS CAN BE DIFFICULT TO INTERPRET, MAKING IT CHALLENGING TO UNDERSTAND THEIR DECISIONS.\n",
      "3. **BIAS AND FAIRNESS**: MACHINE LEARNING ALGORITHMS CAN PERPETUATE BIASES AND DISCRIMINATORY PRACTICES, IF NOT DESIGNED WITH FAIRNESS IN MIND.\n",
      "\n",
      "I HOPE THIS PROVIDES A COMPREHENSIVE INTRODUCTION TO MACHINE LEARNING! DO YOU HAVE ANY SPECIFIC QUESTIONS OR TOPICS YOU'D LIKE ME TO EXPAND ON?\n"
     ]
    }
   ],
   "source": [
    "response = app.invoke(\"what is machine learning\")\n",
    "print(response)"
   ]
  },
  {
   "cell_type": "markdown",
   "metadata": {},
   "source": [
    "### Agent_RAG_Tool"
   ]
  },
  {
   "cell_type": "code",
   "execution_count": 15,
   "metadata": {},
   "outputs": [],
   "source": [
    "import os\n",
    "os.environ[\"GOOGLE_API_KEY\"] = os.getenv(\"GOOGLE_aPI_KEY\")\n",
    "\n",
    "from langchain_ollama import OllamaEmbeddings\n",
    "embeddings = OllamaEmbeddings(model=\"llama3.2:latest\")"
   ]
  },
  {
   "cell_type": "code",
   "execution_count": 16,
   "metadata": {},
   "outputs": [],
   "source": [
    "llm = ChatGroq(model_name=\"llama-3.3-70b-versatile\")"
   ]
  },
  {
   "cell_type": "code",
   "execution_count": 17,
   "metadata": {},
   "outputs": [],
   "source": [
    "from langchain_core.output_parsers import StrOutputParser\n",
    "from langchain_core.prompts import PromptTemplate\n",
    "from langchain_core.runnables import RunnablePassthrough\n",
    "from langchain_community.document_loaders import DirectoryLoader,TextLoader\n",
    "from langchain_community.vectorstores import Chroma\n",
    "from langchain.text_splitter import RecursiveCharacterTextSplitter"
   ]
  },
  {
   "cell_type": "code",
   "execution_count": 18,
   "metadata": {},
   "outputs": [],
   "source": [
    "loader=TextLoader(file_path=r\"C:\\Users\\ADMIN\\OneDrive\\Desktop\\Git\\END-TO_END_LANGGRAPH\\END-TO_END_LANGGRAPH\\llama.txt\")\n",
    "docs = loader.load()\n",
    "text_spliter = RecursiveCharacterTextSplitter(chunk_size=300,chunk_overlap=50)\n",
    "new_doc = text_spliter.split_documents(documents=docs)"
   ]
  },
  {
   "cell_type": "code",
   "execution_count": 19,
   "metadata": {},
   "outputs": [],
   "source": [
    "db = Chroma.from_documents(new_doc, embeddings)\n",
    "retriver = db.as_retriever(search_kwargs={\"k\":3})"
   ]
  },
  {
   "cell_type": "code",
   "execution_count": 20,
   "metadata": {},
   "outputs": [
    {
     "data": {
      "text/plain": [
       "[Document(metadata={'source': 'C:\\\\Users\\\\ADMIN\\\\OneDrive\\\\Desktop\\\\Git\\\\END-TO_END_LANGGRAPH\\\\END-TO_END_LANGGRAPH\\\\llama.txt'}, page_content=\"Meta's Llama 3, unveiled in April 2024, represents a significant advancement in large language models (LLMs), building upon its predecessor, Llama 2. This latest iteration showcases substantial improvements in training data volume, model architecture, and multilingual capabilities, positioning it as\"),\n",
       " Document(metadata={'source': 'C:\\\\Users\\\\ADMIN\\\\OneDrive\\\\Desktop\\\\Git\\\\END-TO_END_LANGGRAPH\\\\END-TO_END_LANGGRAPH\\\\llama.txt'}, page_content='and multilingual capabilities, positioning it as a formidable competitor in the AI landscape.'),\n",
       " Document(metadata={'source': 'C:\\\\Users\\\\ADMIN\\\\OneDrive\\\\Desktop\\\\Git\\\\END-TO_END_LANGGRAPH\\\\END-TO_END_LANGGRAPH\\\\llama.txt'}, page_content='Training and Architecture'),\n",
       " Document(metadata={'source': 'C:\\\\Users\\\\ADMIN\\\\OneDrive\\\\Desktop\\\\Git\\\\END-TO_END_LANGGRAPH\\\\END-TO_END_LANGGRAPH\\\\llama.txt'}, page_content=\"Llama 3 was trained on an extensive dataset comprising 15 trillion tokens, a considerable increase from Llama 2's 2 trillion tokens. This vast dataset enhances the model's ability to understand and generate human-like text across diverse topics. The model is available in three configurations:\"),\n",
       " Document(metadata={'source': 'C:\\\\Users\\\\ADMIN\\\\OneDrive\\\\Desktop\\\\Git\\\\END-TO_END_LANGGRAPH\\\\END-TO_END_LANGGRAPH\\\\llama.txt'}, page_content='Llama 3 8B: Designed for efficiency, suitable for deployment on consumer-grade hardware.\\nLlama 3 70B: Balances performance and resource requirements, ideal for commercial applications.'),\n",
       " Document(metadata={'source': 'C:\\\\Users\\\\ADMIN\\\\OneDrive\\\\Desktop\\\\Git\\\\END-TO_END_LANGGRAPH\\\\END-TO_END_LANGGRAPH\\\\llama.txt'}, page_content='Llama 3 405B: The largest variant, boasting 405 billion parameters, delivering superior performance in complex tasks.'),\n",
       " Document(metadata={'source': 'C:\\\\Users\\\\ADMIN\\\\OneDrive\\\\Desktop\\\\Git\\\\END-TO_END_LANGGRAPH\\\\END-TO_END_LANGGRAPH\\\\llama.txt'}, page_content='Notably, the 405B model features a context window of 128,000 tokens, enabling it to process and generate extensive sequences of text, beneficial for applications requiring long-form content generation. \\nLIFEWIRE.COM'),\n",
       " Document(metadata={'source': 'C:\\\\Users\\\\ADMIN\\\\OneDrive\\\\Desktop\\\\Git\\\\END-TO_END_LANGGRAPH\\\\END-TO_END_LANGGRAPH\\\\llama.txt'}, page_content='Multilingual and Multimodal Capabilities'),\n",
       " Document(metadata={'source': 'C:\\\\Users\\\\ADMIN\\\\OneDrive\\\\Desktop\\\\Git\\\\END-TO_END_LANGGRAPH\\\\END-TO_END_LANGGRAPH\\\\llama.txt'}, page_content=\"Llama 3 supports up to 30 languages, reflecting Meta's commitment to inclusivity and global applicability. While primarily focused on text-based outputs and coding support, future iterations are expected to incorporate multimodal functionalities, including image, video, and speech processing,\"),\n",
       " Document(metadata={'source': 'C:\\\\Users\\\\ADMIN\\\\OneDrive\\\\Desktop\\\\Git\\\\END-TO_END_LANGGRAPH\\\\END-TO_END_LANGGRAPH\\\\llama.txt'}, page_content='including image, video, and speech processing, aligning with industry trends towards comprehensive AI systems.'),\n",
       " Document(metadata={'source': 'C:\\\\Users\\\\ADMIN\\\\OneDrive\\\\Desktop\\\\Git\\\\END-TO_END_LANGGRAPH\\\\END-TO_END_LANGGRAPH\\\\llama.txt'}, page_content='REUTERS.COM'),\n",
       " Document(metadata={'source': 'C:\\\\Users\\\\ADMIN\\\\OneDrive\\\\Desktop\\\\Git\\\\END-TO_END_LANGGRAPH\\\\END-TO_END_LANGGRAPH\\\\llama.txt'}, page_content='Performance and Applications'),\n",
       " Document(metadata={'source': 'C:\\\\Users\\\\ADMIN\\\\OneDrive\\\\Desktop\\\\Git\\\\END-TO_END_LANGGRAPH\\\\END-TO_END_LANGGRAPH\\\\llama.txt'}, page_content=\"In evaluations, Llama 3 has demonstrated significant improvements in language understanding, coding assistance, and complex mathematical problem-solving. Despite having fewer parameters than some competitors, such as OpenAI's GPT-4, Llama 3's optimized training and architecture enable it to perform\"),\n",
       " Document(metadata={'source': 'C:\\\\Users\\\\ADMIN\\\\OneDrive\\\\Desktop\\\\Git\\\\END-TO_END_LANGGRAPH\\\\END-TO_END_LANGGRAPH\\\\llama.txt'}, page_content='training and architecture enable it to perform competitively, particularly in advanced language and mathematical tasks.'),\n",
       " Document(metadata={'source': 'C:\\\\Users\\\\ADMIN\\\\OneDrive\\\\Desktop\\\\Git\\\\END-TO_END_LANGGRAPH\\\\END-TO_END_LANGGRAPH\\\\llama.txt'}, page_content='REUTERS.COM'),\n",
       " Document(metadata={'source': 'C:\\\\Users\\\\ADMIN\\\\OneDrive\\\\Desktop\\\\Git\\\\END-TO_END_LANGGRAPH\\\\END-TO_END_LANGGRAPH\\\\llama.txt'}, page_content=\"The model's versatility makes it suitable for a wide range of applications, including:\"),\n",
       " Document(metadata={'source': 'C:\\\\Users\\\\ADMIN\\\\OneDrive\\\\Desktop\\\\Git\\\\END-TO_END_LANGGRAPH\\\\END-TO_END_LANGGRAPH\\\\llama.txt'}, page_content='Text Generation: Crafting coherent and contextually relevant content.\\nCoding Support: Assisting developers with code generation and debugging.\\nLanguage Translation: Facilitating accurate translations across multiple languages.'),\n",
       " Document(metadata={'source': 'C:\\\\Users\\\\ADMIN\\\\OneDrive\\\\Desktop\\\\Git\\\\END-TO_END_LANGGRAPH\\\\END-TO_END_LANGGRAPH\\\\llama.txt'}, page_content='Educational Tools: Providing explanations and tutoring in various subjects.\\nOpen-Source Commitment and Ethical Considerations'),\n",
       " Document(metadata={'source': 'C:\\\\Users\\\\ADMIN\\\\OneDrive\\\\Desktop\\\\Git\\\\END-TO_END_LANGGRAPH\\\\END-TO_END_LANGGRAPH\\\\llama.txt'}, page_content='Meta has continued its open-source approach with Llama 3, making the model accessible to researchers and developers. This strategy aims to foster innovation and collaboration within the AI community. However, it also raises discussions about the balance between openness and the potential risks'),\n",
       " Document(metadata={'source': 'C:\\\\Users\\\\ADMIN\\\\OneDrive\\\\Desktop\\\\Git\\\\END-TO_END_LANGGRAPH\\\\END-TO_END_LANGGRAPH\\\\llama.txt'}, page_content='balance between openness and the potential risks associated with widespread access to powerful AI models.'),\n",
       " Document(metadata={'source': 'C:\\\\Users\\\\ADMIN\\\\OneDrive\\\\Desktop\\\\Git\\\\END-TO_END_LANGGRAPH\\\\END-TO_END_LANGGRAPH\\\\llama.txt'}, page_content='TIME.COM'),\n",
       " Document(metadata={'source': 'C:\\\\Users\\\\ADMIN\\\\OneDrive\\\\Desktop\\\\Git\\\\END-TO_END_LANGGRAPH\\\\END-TO_END_LANGGRAPH\\\\llama.txt'}, page_content='Conclusion'),\n",
       " Document(metadata={'source': 'C:\\\\Users\\\\ADMIN\\\\OneDrive\\\\Desktop\\\\Git\\\\END-TO_END_LANGGRAPH\\\\END-TO_END_LANGGRAPH\\\\llama.txt'}, page_content='Llama 3 signifies a notable leap in AI development, offering enhanced capabilities and performance. Its open-source nature encourages community engagement, while its technical advancements broaden the horizons for practical applications. As AI continues to evolve, Llama 3 exemplifies the progress'),\n",
       " Document(metadata={'source': 'C:\\\\Users\\\\ADMIN\\\\OneDrive\\\\Desktop\\\\Git\\\\END-TO_END_LANGGRAPH\\\\END-TO_END_LANGGRAPH\\\\llama.txt'}, page_content='to evolve, Llama 3 exemplifies the progress and potential of collaborative innovation in the field.')]"
      ]
     },
     "execution_count": 20,
     "metadata": {},
     "output_type": "execute_result"
    }
   ],
   "source": [
    "new_doc"
   ]
  },
  {
   "cell_type": "code",
   "execution_count": 22,
   "metadata": {},
   "outputs": [
    {
     "name": "stdout",
     "output_type": "stream",
     "text": [
      "{'source': 'C:\\\\Users\\\\ADMIN\\\\OneDrive\\\\Desktop\\\\Git\\\\END-TO_END_LANGGRAPH\\\\END-TO_END_LANGGRAPH\\\\llama.txt'}\n",
      "Meta's Llama 3, unveiled in April 2024, represents a significant advancement in large language models (LLMs), building upon its predecessor, Llama 2. This latest iteration showcases substantial improvements in training data volume, model architecture, and multilingual capabilities, positioning it as\n",
      "[Document(metadata={'source': 'C:\\\\Users\\\\ADMIN\\\\OneDrive\\\\Desktop\\\\Git\\\\END-TO_END_LANGGRAPH\\\\END-TO_END_LANGGRAPH\\\\llama.txt'}, page_content=\"Meta's Llama 3, unveiled in April 2024, represents a significant advancement in large language models (LLMs), building upon its predecessor, Llama 2. This latest iteration showcases substantial improvements in training data volume, model architecture, and multilingual capabilities, positioning it as\"), Document(metadata={'source': 'C:\\\\Users\\\\ADMIN\\\\OneDrive\\\\Desktop\\\\Git\\\\END-TO_END_LANGGRAPH\\\\END-TO_END_LANGGRAPH\\\\llama.txt'}, page_content='Llama 3 405B: The largest variant, boasting 405 billion parameters, delivering superior performance in complex tasks.'), Document(metadata={'source': 'C:\\\\Users\\\\ADMIN\\\\OneDrive\\\\Desktop\\\\Git\\\\END-TO_END_LANGGRAPH\\\\END-TO_END_LANGGRAPH\\\\llama.txt'}, page_content='Llama 3 signifies a notable leap in AI development, offering enhanced capabilities and performance. Its open-source nature encourages community engagement, while its technical advancements broaden the horizons for practical applications. As AI continues to evolve, Llama 3 exemplifies the progress')]\n",
      "page_content='Meta's Llama 3, unveiled in April 2024, represents a significant advancement in large language models (LLMs), building upon its predecessor, Llama 2. This latest iteration showcases substantial improvements in training data volume, model architecture, and multilingual capabilities, positioning it as' metadata={'source': 'C:\\\\Users\\\\ADMIN\\\\OneDrive\\\\Desktop\\\\Git\\\\END-TO_END_LANGGRAPH\\\\END-TO_END_LANGGRAPH\\\\llama.txt'}\n",
      "page_content='Llama 3 405B: The largest variant, boasting 405 billion parameters, delivering superior performance in complex tasks.' metadata={'source': 'C:\\\\Users\\\\ADMIN\\\\OneDrive\\\\Desktop\\\\Git\\\\END-TO_END_LANGGRAPH\\\\END-TO_END_LANGGRAPH\\\\llama.txt'}\n",
      "page_content='Llama 3 signifies a notable leap in AI development, offering enhanced capabilities and performance. Its open-source nature encourages community engagement, while its technical advancements broaden the horizons for practical applications. As AI continues to evolve, Llama 3 exemplifies the progress' metadata={'source': 'C:\\\\Users\\\\ADMIN\\\\OneDrive\\\\Desktop\\\\Git\\\\END-TO_END_LANGGRAPH\\\\END-TO_END_LANGGRAPH\\\\llama.txt'}\n"
     ]
    }
   ],
   "source": [
    "query = \"what is llama3?\"\n",
    "docs = retriver.get_relevant_documents(query)\n",
    "print(docs[0].metadata)\n",
    "print(docs[0].page_content)\n",
    "print(docs)\n",
    "\n",
    "for doc in docs:\n",
    "    print(doc)"
   ]
  },
  {
   "cell_type": "code",
   "execution_count": 66,
   "metadata": {},
   "outputs": [],
   "source": [
    "def function_1(agentstate):\n",
    "    \n",
    "    question = agentstate[\"message\"][-1]\n",
    "    \n",
    "    query = \"Your task is to provide only the brief answer based on the user query.  \\ Don't include too much reasoning. Following is the user query: \" + question\n",
    "    \n",
    "    response = llm.invoke(query)\n",
    "    \n",
    "    agentstate['message'].append(response.content)\n",
    "    \n",
    "    return agentstate"
   ]
  },
  {
   "cell_type": "code",
   "execution_count": 67,
   "metadata": {},
   "outputs": [],
   "source": [
    "def function_2(agentstate):\n",
    "    message = agentstate['message']\n",
    "    question = message[0] ## Fetching the user question\n",
    "\n",
    "    template = \"\"\"Answer the question based only on the following context:\n",
    "    {context}\n",
    "\n",
    "    Question: {question}\n",
    "    \"\"\"\n",
    "    prompt = PromptTemplate.from_template(template)\n",
    "\n",
    "    retrieval_chain = (\n",
    "        {\"context\": retriver, \"question\": RunnablePassthrough()}\n",
    "        | prompt\n",
    "        | llm\n",
    "        | StrOutputParser()\n",
    "        )\n",
    "    result = retrieval_chain.invoke(question)\n",
    "    return result"
   ]
  },
  {
   "cell_type": "code",
   "execution_count": 68,
   "metadata": {},
   "outputs": [],
   "source": [
    "# Define a Langchain graph\n",
    "from langgraph.graph import Graph\n",
    "workflow4 = Graph()\n",
    "workflow4.add_node(\"LLM\", function_1)\n",
    "workflow4.add_node(\"RAGtool\", function_2)\n",
    "workflow4.add_edge('LLM', 'RAGtool')\n",
    "workflow4.set_entry_point(\"LLM\")\n",
    "workflow4.set_finish_point(\"RAGtool\")\n",
    "app = workflow4.compile()"
   ]
  },
  {
   "cell_type": "code",
   "execution_count": 69,
   "metadata": {},
   "outputs": [
    {
     "data": {
      "image/png": "[encoded data removed]",
      "text/plain": [
       "<langgraph.graph.graph.CompiledGraph object at 0x0000024CA2111A50>"
      ]
     },
     "execution_count": 69,
     "metadata": {},
     "output_type": "execute_result"
    }
   ],
   "source": [
    "app"
   ]
  },
  {
   "cell_type": "code",
   "execution_count": 70,
   "metadata": {},
   "outputs": [],
   "source": [
    "input = {\"message\":[\"Tell me about llama3\"]}"
   ]
  },
  {
   "cell_type": "code",
   "execution_count": 73,
   "metadata": {},
   "outputs": [
    {
     "data": {
      "text/plain": [
       "'Llama 3, unveiled in April 2024, is a significant advancement in large language models (LLMs). It builds upon its predecessor, Llama 2, and showcases substantial improvements in training data volume, model architecture, and multilingual capabilities.'"
      ]
     },
     "execution_count": 73,
     "metadata": {},
     "output_type": "execute_result"
    }
   ],
   "source": [
    "app.invoke(input)"
   ]
  },
  {
   "cell_type": "code",
   "execution_count": 72,
   "metadata": {},
   "outputs": [
    {
     "name": "stdout",
     "output_type": "stream",
     "text": [
      "Output from node 'LLM':\n",
      "---\n",
      "{'message': ['Tell me about llama3', 'Llama3 is an artificial intelligence model developed by Meta, designed for natural language processing and understanding.']}\n",
      "\n",
      "---\n",
      "\n",
      "Output from node 'RAGtool':\n",
      "---\n",
      "Llama 3, unveiled in April 2024, represents a significant advancement in large language models (LLMs), building upon its predecessor, Llama 2. It showcases substantial improvements in training data volume, model architecture, and multilingual capabilities.\n",
      "\n",
      "---\n",
      "\n"
     ]
    }
   ],
   "source": [
    "for output in app.stream(input):\n",
    "    # stream() yields dictionaries with output keyed by node name\n",
    "    for key, value in output.items():\n",
    "        print(f\"Output from node '{key}':\")\n",
    "        print(\"---\")\n",
    "        print(value)\n",
    "    print(\"\\n---\\n\")"
   ]
  },
  {
   "cell_type": "code",
   "execution_count": null,
   "metadata": {},
   "outputs": [],
   "source": []
  }
 ],
 "metadata": {
  "kernelspec": {
   "display_name": "jay",
   "language": "python",
   "name": "python3"
  },
  "language_info": {
   "codemirror_mode": {
    "name": "ipython",
    "version": 3
   },
   "file_extension": ".py",
   "mimetype": "text/x-python",
   "name": "python",
   "nbconvert_exporter": "python",
   "pygments_lexer": "ipython3",
   "version": "3.10.15"
  }
 },
 "nbformat": 4,
 "nbformat_minor": 2
}
