{
 "cells": [
  {
   "cell_type": "code",
   "execution_count": 2,
   "metadata": {},
   "outputs": [],
   "source": [
    "from langchain_core.prompts import ChatPromptTemplate,PromptTemplate\n",
    "from langchain_groq import ChatGroq\n",
    "from langchain_core.output_parsers import StrOutputParser\n",
    "from langchain_core.runnables import RunnablePassthrough\n",
    "from langchain.document_loaders import TextLoader\n",
    "from langchain_ollama import OllamaEmbeddings\n",
    "from pydantic import BaseModel,Field\n",
    "from langchain.vectorstores import Chroma, FAISS\n",
    "from langchain.text_splitter import RecursiveCharacterTextSplitter"
   ]
  },
  {
   "cell_type": "code",
   "execution_count": 3,
   "metadata": {},
   "outputs": [],
   "source": [
    "llm = ChatGroq(model_name=\"deepseek-r1-distill-llama-70b\")"
   ]
  },
  {
   "cell_type": "code",
   "execution_count": 4,
   "metadata": {},
   "outputs": [],
   "source": [
    "import os\n",
    "os.environ[\"GOOGLE_API_KEY\"] = os.getenv(\"GOOGLE_aPI_KEY\")\n",
    "\n",
    "from langchain_ollama import OllamaEmbeddings\n",
    "embeddings = OllamaEmbeddings(model=\"llama3.2:latest\")"
   ]
  },
  {
   "cell_type": "code",
   "execution_count": 5,
   "metadata": {},
   "outputs": [],
   "source": [
    "loader=TextLoader(file_path=r\"C:\\Users\\ADMIN\\OneDrive\\Desktop\\Git\\END-TO_END_LANGGRAPH\\END-TO_END_LANGGRAPH\\indian_economic.txt\")\n",
    "docs = loader.load()\n",
    "text_spliter = RecursiveCharacterTextSplitter(chunk_size=300,chunk_overlap=50)\n",
    "new_doc = text_spliter.split_documents(documents=docs)"
   ]
  },
  {
   "cell_type": "code",
   "execution_count": null,
   "metadata": {},
   "outputs": [],
   "source": [
    "db = Chroma.from_documents(new_doc, embeddings, persist_directory=\"./chroma_db\")\n"
   ]
  },
  {
   "cell_type": "code",
   "execution_count": 23,
   "metadata": {},
   "outputs": [],
   "source": [
    "retriver = db.as_retriever(search_kwargs={\"k\":3})"
   ]
  },
  {
   "cell_type": "code",
   "execution_count": 43,
   "metadata": {},
   "outputs": [
    {
     "name": "stdout",
     "output_type": "stream",
     "text": [
      "{'source': 'C:\\\\Users\\\\ADMIN\\\\OneDrive\\\\Desktop\\\\Git\\\\END-TO_END_LANGGRAPH\\\\END-TO_END_LANGGRAPH\\\\indian_economic.txt'}\n",
      "Key Sector Performances:\n",
      "[Document(metadata={'source': 'C:\\\\Users\\\\ADMIN\\\\OneDrive\\\\Desktop\\\\Git\\\\END-TO_END_LANGGRAPH\\\\END-TO_END_LANGGRAPH\\\\indian_economic.txt'}, page_content='Key Sector Performances:'), Document(metadata={'source': 'C:\\\\Users\\\\ADMIN\\\\OneDrive\\\\Desktop\\\\Git\\\\END-TO_END_LANGGRAPH\\\\END-TO_END_LANGGRAPH\\\\indian_economic.txt'}, page_content='Year\\tGDP\\n2022\\t$3,517.24B\\n2021\\t$3,173.04B\\n2020\\t$2,935.57B\\n2019\\t$2,869.45B\\n2018\\t$2,715.50B\\n2017\\t$2,652.10B\\n2016\\t$2,479.15B\\n2015\\t$2,390.78B'), Document(metadata={'source': 'C:\\\\Users\\\\ADMIN\\\\OneDrive\\\\Desktop\\\\Git\\\\END-TO_END_LANGGRAPH\\\\END-TO_END_LANGGRAPH\\\\indian_economic.txt'}, page_content='Additional Economic Indicators:')]\n",
      "page_content='Key Sector Performances:' metadata={'source': 'C:\\\\Users\\\\ADMIN\\\\OneDrive\\\\Desktop\\\\Git\\\\END-TO_END_LANGGRAPH\\\\END-TO_END_LANGGRAPH\\\\indian_economic.txt'}\n",
      "page_content='Year\tGDP\n",
      "2022\t$3,517.24B\n",
      "2021\t$3,173.04B\n",
      "2020\t$2,935.57B\n",
      "2019\t$2,869.45B\n",
      "2018\t$2,715.50B\n",
      "2017\t$2,652.10B\n",
      "2016\t$2,479.15B\n",
      "2015\t$2,390.78B' metadata={'source': 'C:\\\\Users\\\\ADMIN\\\\OneDrive\\\\Desktop\\\\Git\\\\END-TO_END_LANGGRAPH\\\\END-TO_END_LANGGRAPH\\\\indian_economic.txt'}\n",
      "page_content='Additional Economic Indicators:' metadata={'source': 'C:\\\\Users\\\\ADMIN\\\\OneDrive\\\\Desktop\\\\Git\\\\END-TO_END_LANGGRAPH\\\\END-TO_END_LANGGRAPH\\\\indian_economic.txt'}\n"
     ]
    }
   ],
   "source": [
    "query = \"what is llama3?\"\n",
    "docs = retriver.get_relevant_documents(query)\n",
    "print(docs[0].metadata)\n",
    "print(docs[0].page_content)\n",
    "print(docs)\n",
    "\n",
    "for doc in docs:\n",
    "    print(doc)"
   ]
  },
  {
   "cell_type": "code",
   "execution_count": 44,
   "metadata": {},
   "outputs": [],
   "source": [
    "import operator\n",
    "from typing import Sequence,Annotated,TypedDict\n",
    "from langchain_core.messages import BaseMessage"
   ]
  },
  {
   "cell_type": "code",
   "execution_count": 70,
   "metadata": {},
   "outputs": [],
   "source": [
    "class AgentState(TypedDict):\n",
    "    messages : Annotated[Sequence[BaseMessage],operator.add]"
   ]
  },
  {
   "cell_type": "code",
   "execution_count": 71,
   "metadata": {},
   "outputs": [],
   "source": [
    "from pydantic import BaseModel,Field\n",
    "from langchain_core.output_parsers import PydanticOutputParser"
   ]
  },
  {
   "cell_type": "code",
   "execution_count": 72,
   "metadata": {},
   "outputs": [],
   "source": [
    "\n",
    "from pydantic import BaseModel , Field\n",
    "class TopicSelectionParser(BaseModel):\n",
    "    Topic: str = Field(description='Selected Topic')\n",
    "    Reasoning: str = Field(description='Reasoning behind topic selection')"
   ]
  },
  {
   "cell_type": "code",
   "execution_count": 73,
   "metadata": {},
   "outputs": [],
   "source": [
    "from langchain.output_parsers import PydanticOutputParser\n",
    "parser = PydanticOutputParser(pydantic_object=TopicSelectionParser)"
   ]
  },
  {
   "cell_type": "code",
   "execution_count": 74,
   "metadata": {},
   "outputs": [
    {
     "name": "stdout",
     "output_type": "stream",
     "text": [
      "The output should be formatted as a JSON instance that conforms to the JSON schema below.\n",
      "\n",
      "As an example, for the schema {\"properties\": {\"foo\": {\"title\": \"Foo\", \"description\": \"a list of strings\", \"type\": \"array\", \"items\": {\"type\": \"string\"}}}, \"required\": [\"foo\"]}\n",
      "the object {\"foo\": [\"bar\", \"baz\"]} is a well-formatted instance of the schema. The object {\"properties\": {\"foo\": [\"bar\", \"baz\"]}} is not well-formatted.\n",
      "\n",
      "Here is the output schema:\n",
      "```\n",
      "{\"properties\": {\"Topic\": {\"description\": \"Selected Topic\", \"title\": \"Topic\", \"type\": \"string\"}, \"Reasoning\": {\"description\": \"Reasoning behind topic selection\", \"title\": \"Reasoning\", \"type\": \"string\"}}, \"required\": [\"Topic\", \"Reasoning\"]}\n",
      "```\n"
     ]
    }
   ],
   "source": [
    "print(parser.get_format_instructions())"
   ]
  },
  {
   "cell_type": "code",
   "execution_count": 75,
   "metadata": {},
   "outputs": [],
   "source": [
    "def function_1(state):\n",
    "    message=state[\"messages\"]\n",
    "    question=message[-1]\n",
    "    print(question)\n",
    "    \n",
    "    template=\"\"\"\n",
    "    Your task is to classify the given user query into one of the following categories: [India, Not Related]. \n",
    "    Only respond with the category name and nothing else.\n",
    "\n",
    "    User query: {question}\n",
    "    {format_instructions}\n",
    "    \"\"\"\n",
    "    \n",
    "    prompt = PromptTemplate(template=template,\n",
    "                                    input_variables=[question],\n",
    "                                    partial_variables={\n",
    "                                        \"format_instructions\" : parser.get_format_instructions()                                    }\n",
    "                                    )\n",
    "    chain =  prompt | llm | parser\n",
    "    \n",
    "    response = chain.invoke({\"question\":question,\"format_instructions\" : parser.get_format_instructions() })\n",
    "\n",
    "    print(response)\n",
    "\n",
    "    return {\"messages\": [response.Topic]}"
   ]
  },
  {
   "cell_type": "code",
   "execution_count": 76,
   "metadata": {},
   "outputs": [
    {
     "name": "stdout",
     "output_type": "stream",
     "text": [
      "Tell me about USA Industrial Growth\n",
      "Topic='Not Related' Reasoning='The query is about USA Industrial Growth, which is not related to India.'\n"
     ]
    },
    {
     "data": {
      "text/plain": [
       "{'messages': ['Not Related']}"
      ]
     },
     "execution_count": 76,
     "metadata": {},
     "output_type": "execute_result"
    }
   ],
   "source": [
    "state = {\"messages\": [\"Tell me about USA Industrial Growth\"]}\n",
    "function_1(state)"
   ]
  },
  {
   "cell_type": "code",
   "execution_count": 77,
   "metadata": {},
   "outputs": [],
   "source": [
    "def router(state):\n",
    "    print('-> Router ->')\n",
    "    \n",
    "    messages = state[\"messages\"]\n",
    "    last_message = messages[-1]\n",
    "    print(last_message)\n",
    "    if 'India' in last_message:\n",
    "        return 'RAG Call'\n",
    "    else:\n",
    "        return 'LLM Call'"
   ]
  },
  {
   "cell_type": "code",
   "execution_count": 78,
   "metadata": {},
   "outputs": [],
   "source": [
    "def function_2(state):\n",
    "    print('-> Calling RAG ->')\n",
    "    messages = state['messages']\n",
    "    question = messages[0] ## Fetching the user question\n",
    "    print(question)\n",
    "\n",
    "    template = \"\"\"Answer the question based only on the following context:\n",
    "    {context}\n",
    "\n",
    "    Question: {question}\n",
    "    \"\"\"\n",
    "    prompt = ChatPromptTemplate.from_template(template)\n",
    "    \n",
    "    print(prompt)\n",
    "\n",
    "    retrieval_chain = (\n",
    "        {\"context\": retriver, \"question\": RunnablePassthrough()}\n",
    "        | prompt\n",
    "        | llm\n",
    "        | StrOutputParser()\n",
    "        )\n",
    "    result = retrieval_chain.invoke(question)\n",
    "    return  {\"messages\": [result]}"
   ]
  },
  {
   "cell_type": "code",
   "execution_count": 79,
   "metadata": {},
   "outputs": [],
   "source": [
    "\n",
    "def function_3(state):\n",
    "    print('-> Calling LLM ->')\n",
    "\n",
    "    messages = state['messages']\n",
    "    question = messages[0] ## Fetching the user question\n",
    "\n",
    "    # Normal LLM call\n",
    "    complete_query = \"Anwer the follow question with your knowledge of the real world. Following is the user question: \" + question\n",
    "    response = llm.invoke(complete_query)\n",
    "    return {\"messages\": [response.content]}"
   ]
  },
  {
   "cell_type": "code",
   "execution_count": 80,
   "metadata": {},
   "outputs": [
    {
     "name": "stdout",
     "output_type": "stream",
     "text": [
      "-> Calling LLM ->\n"
     ]
    },
    {
     "data": {
      "text/plain": [
       "{'messages': [\"<think>\\nOkay, so I need to understand the industrial growth of the USA. Let me start by breaking down the question. The user wants to know about the history and development of industries in the United States. I remember that the USA has gone through several phases of industrialization, so I should probably structure the answer chronologically.\\n\\nFirst, I think about the 19th century. The Industrial Revolution began in Britain, but the USA caught up quickly. There were major advancements like the steam engine, which must have been important. Also, the construction of railroads expanded transportation, which is crucial for moving goods and people. Textile mills were among the first factories, so that's another point. The Civil War probably played a role too, maybe by accelerating industrial production for the war effort.\\n\\nMoving into the late 19th and early 20th centuries, I recall hearing about robber barons and big industries like steel and oil. Andrew Carnegie and John D. Rockefeller were key figures. This period must have been when the USA became a leading industrial power. The assembly line, introduced by Ford, revolutionized manufacturing, especially for cars. Urbanization and immigration would have provided the labor force needed for these industries.\\n\\nThen, the mid-20th century after WWII, the USA was a superpower. The economy was strong, and industries like aerospace and technology started to emerge. The interstate highway system would have supported the growth of industries by improving transportation. Consumer goods became more widespread, and the service sector started to grow alongside manufacturing.\\n\\nIn recent decades, there's been a shift towards technology and services. Silicon Valley is a big part of that, with companies like Apple and Google. The internet and digital technologies have changed the economy. However, manufacturing has declined in some areas, leading to discussions about reshoring or bringing back industries. Green energy is another modern aspect, focusing on sustainability.\\n\\nI should also consider challenges like globalization and automation, which have impacted employment. The government's role through policies and infrastructure investments is important too. Cultural aspects like innovation and entrepreneurship have driven growth, so that's a good point to include.\\n\\nI need to make sure the answer is comprehensive but not too detailed, covering each era and highlighting key industries, events, and impacts. I should avoid getting too bogged down in specific dates unless they're crucial, like the post-WWII era or the 21st-century shifts.\\n\\nWait, did I miss anything? Maybe the impact of the Great Depression and how the New Deal affected industrial growth. That could be a point in the mid-20th century section, but perhaps it's better to mention it as a challenge during that period.\\n\\nAlso, the rise of the service sector is important because it shows a shift from manufacturing to other areas. I should include that as part of the late 20th century and early 21st-century trends.\\n\\nI think that's a solid outline. Now, I can structure the answer by breaking it into sections based on time periods, each highlighting key industries, technological advancements, and significant events that contributed to the USA's industrial growth.\\n</think>\\n\\nThe industrial growth of the USA can be understood through its historical development, marked by significant phases and transformations:\\n\\n1. **19th Century - The Dawn of Industrialization:**\\n   - The USA rapidly industrialized, adopting technologies like the steam engine and expanding railroads, which revolutionized transportation and goods movement.\\n   - The Civil War accelerated industrial production, spurring advancements in manufacturing for the war effort.\\n   - Early factories, such as textile mills, emerged, laying the groundwork for future industries.\\n\\n2. **Late 19th to Early 20th Century - The Rise of Heavy Industry:**\\n   - The USA became a leading industrial power, driven by figures like Andrew Carnegie in steel and John D. Rockefeller in oil.\\n   - Innovations like the assembly line, pioneered by Ford, transformed manufacturing, particularly in the automotive industry.\\n   - Urbanization and immigration provided the necessary labor force for growing industries.\\n\\n3. **Mid-20th Century - Post-WWII Dominance:**\\n   - Emerging as a superpower, the USA's economy flourished with industries like aerospace and technology gaining prominence.\\n   - The interstate highway system enhanced transportation, supporting industrial growth and consumer goods distribution.\\n   - The service sector began to expand alongside manufacturing.\\n\\n4. **Late 20th to Early 21st Century - Shift to Technology and Services:**\\n   - The economy transitioned towards technology and services, with Silicon Valley leading in digital innovation.\\n   - The rise of the internet and digital technologies reshaped the economy, though manufacturing declined in some sectors.\\n   - Discussions around reshoring industries and the growth of green energy reflected modern economic shifts.\\n\\n5. **Challenges and Adaptations:**\\n   - Globalization and automation impacted employment, with the government playing a role in addressing these changes through policies and infrastructure investments.\\n   - The Great Depression and the New Deal highlighted the resilience and adaptability of the US industrial sector.\\n\\n6. **Cultural and Entrepreneurial Spirit:**\\n   - Innovation and entrepreneurship, embedded in American culture, have consistently driven industrial and economic growth.\\n\\nThis structured approach captures the evolution of the USA's industrial landscape, emphasizing key industries, technological advancements, and significant events that have shaped its economic trajectory.\"]}"
      ]
     },
     "execution_count": 80,
     "metadata": {},
     "output_type": "execute_result"
    }
   ],
   "source": [
    "state = {\"messages\": [\"Tell me about USA Industrial Growth\"]}\n",
    "function_3(state)"
   ]
  },
  {
   "cell_type": "code",
   "execution_count": 81,
   "metadata": {},
   "outputs": [],
   "source": [
    "from langgraph.graph import StateGraph,END\n",
    "\n",
    "workflow5 = StateGraph(AgentState) ### StateGraph with AgentState\n",
    "\n",
    "\n",
    "workflow5.add_node(\"agent\", function_1)\n",
    "\n",
    "workflow5.add_node(\"RAG\", function_2)\n",
    "\n",
    "workflow5.add_node(\"LLM\", function_3)\n",
    "\n",
    "\n",
    "workflow5.set_entry_point(\"agent\")\n",
    "\n",
    "workflow5.add_conditional_edges(\n",
    "    \"agent\",\n",
    "    \n",
    "    \n",
    "    router,\n",
    "    {\n",
    "        \"RAG Call\": \"RAG\",\n",
    "        \"LLM Call\": \"LLM\",\n",
    "    }\n",
    ")\n",
    "\n",
    "workflow5.add_edge(\"RAG\",END)\n",
    "\n",
    "\n",
    "workflow5.add_edge(\"LLM\",END)\n",
    "\n",
    "\n",
    "app5=workflow5.compile()"
   ]
  },
  {
   "cell_type": "code",
   "execution_count": 82,
   "metadata": {},
   "outputs": [
    {
     "data": {
      "image/png": "[encoded data removed]",
      "text/plain": [
       "<langgraph.graph.state.CompiledStateGraph object at 0x00000267D6C744C0>"
      ]
     },
     "execution_count": 82,
     "metadata": {},
     "output_type": "execute_result"
    }
   ],
   "source": [
    "app5"
   ]
  },
  {
   "cell_type": "code",
   "execution_count": 83,
   "metadata": {},
   "outputs": [],
   "source": [
    "state = {\"messages\": [\"Tell me about india Industrial Growth\"]}"
   ]
  },
  {
   "cell_type": "code",
   "execution_count": 84,
   "metadata": {},
   "outputs": [
    {
     "name": "stdout",
     "output_type": "stream",
     "text": [
      "Tell me about india Industrial Growth\n",
      "Topic='India' Reasoning=\"The query explicitly mentions 'india Industrial Growth', which is directly related to India's economic and industrial development.\"\n",
      "-> Router ->\n",
      "India\n",
      "-> Calling RAG ->\n",
      "Tell me about india Industrial Growth\n",
      "input_variables=['context', 'question'] input_types={} partial_variables={} messages=[HumanMessagePromptTemplate(prompt=PromptTemplate(input_variables=['context', 'question'], input_types={}, partial_variables={}, template='Answer the question based only on the following context:\\n    {context}\\n\\n    Question: {question}\\n    '), additional_kwargs={})]\n"
     ]
    }
   ],
   "source": [
    "output = app5.invoke(state)"
   ]
  },
  {
   "cell_type": "code",
   "execution_count": 85,
   "metadata": {},
   "outputs": [
    {
     "name": "stdout",
     "output_type": "stream",
     "text": [
      "{'messages': ['Tell me about india Industrial Growth', 'India', '<think>\\nOkay, so I need to figure out how to answer the question about India\\'s industrial growth based on the provided context. Let me start by reading through the context carefully. \\n\\nThe context has three documents. The first one mentions \"Key Sector Performances,\" which seems like it\\'s about different sectors but doesn\\'t provide specific details. The second document has a table with GDP figures from 2015 to 2022. I can see that the GDP has been increasing each year, which is a good indicator of economic growth. For example, in 2015, the GDP was $2,390.78B, and by 2022, it rose to $3,517.24B. That\\'s a significant increase over seven years, which suggests steady growth.\\n\\nThe third document talks about specific sectors: Automotive and Pharmaceuticals. The Automotive sector saw a 3.2% increase in output in January, driven by electric vehicles and two-wheelers. Pharmaceuticals exports grew by 1.8%, thanks to generic medications and vaccine production. These are positive signs for these industries.\\n\\nNow, putting this together, the user is asking about India\\'s industrial growth. I should focus on the key sectors mentioned and the GDP growth. The GDP increase shows overall economic expansion, which includes industrial growth. The specific sectors like Automotive and Pharmaceuticals are part of the industrial sector, so their growth contributes to overall industrial growth.\\n\\nI should structure the answer by first mentioning the GDP growth trend, then delve into the specific sectors, explaining their contributions. It\\'s also important to highlight that these sectors are driving factors. I need to make sure to include the percentages and the factors causing the growth, like demand for electric vehicles or generic drugs.\\n\\nWait, but the GDP is in USD billions, which might indicate nominal growth, not adjusted for inflation. However, since the question is about industrial growth, and the sectors are showing positive growth, it still supports the idea of industrial expansion.\\n\\nI should also note that while the GDP shows overall growth, the specific sectors provide insight into which areas are performing well. This gives a more detailed picture of where the growth is coming from within the industrial sector.\\n\\nSo, in summary, the answer should mention the steady GDP increase, then discuss the Automotive and Pharmaceutical sectors\\' contributions, citing their growth percentages and the reasons behind them. This should give a comprehensive view of India\\'s industrial growth based on the context provided.\\n</think>\\n\\nIndia\\'s industrial growth is evident through the steady increase in GDP from 2015 to 2022, rising from $2,390.78B to $3,517.24B, indicating a robust economic expansion. Key sectors such as Automotive and Pharmaceuticals have significantly contributed to this growth. The Automotive sector experienced a 3.2% increase in output, driven by rising demand for electric vehicles and two-wheelers. The Pharmaceutical sector saw a 1.8% growth in exports, fueled by demand for generic medications and vaccine production. These sectors highlight the dynamic factors contributing to India\\'s industrial development.']}\n"
     ]
    }
   ],
   "source": [
    "print(output)"
   ]
  }
 ],
 "metadata": {
  "kernelspec": {
   "display_name": "jay",
   "language": "python",
   "name": "python3"
  },
  "language_info": {
   "codemirror_mode": {
    "name": "ipython",
    "version": 3
   },
   "file_extension": ".py",
   "mimetype": "text/x-python",
   "name": "python",
   "nbconvert_exporter": "python",
   "pygments_lexer": "ipython3",
   "version": "3.10.15"
  }
 },
 "nbformat": 4,
 "nbformat_minor": 2
}
